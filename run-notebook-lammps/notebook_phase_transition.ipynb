{
 "cells": [
  {
   "cell_type": "markdown",
   "id": "07867d7c",
   "metadata": {},
   "source": [
    "# This notebook perform simulations of Cesium lead bromide (CsPbBr3)"
   ]
  },
  {
   "cell_type": "markdown",
   "id": "693d4ba0",
   "metadata": {},
   "source": [
    "# install various packages - change/leave as you like"
   ]
  },
  {
   "cell_type": "code",
   "execution_count": null,
   "id": "a5bd5ed9",
   "metadata": {},
   "outputs": [],
   "source": [
    "# conda install -c conda-forge numpy pandas matplotlib notebook mdtraj mdanalysis \n",
    "# pip install --upgrade --user ase\n",
    "# or\n",
    "# \n",
    "# git clone https://github.com/plumed/plumed2.git\n",
    "# cd plumed2/\n",
    "# plumed_dir=${PWD}\n",
    "# #./configure --enable-modules=all #CC=mpiicc  CXX=mpiicpc  FC=mpiifort\n",
    "# ./configure --enable-modules=all PYTHON_BIN=python3.9 #--prefix=/home/ahlawat/Downloads/softwares/plumed2/\n",
    "# make -j 10\n",
    "# make install\n",
    "# source ${PWD}/sourceme.sh\n",
    "# echo \"source ${plumed_dir}/sourceme.sh\" >> ~/.bashrc\n",
    "# echo `export PYTHONPATH=\"/home/ahlawat/Downloads/softwares/plumed2/lib/plumed/python/:$PYTHONPATH\"` >> ~/.bashrc\n",
    "# #\n",
    "# cd ../\n",
    "# plumed=\"`pwd -P`/plumed2/src\"\n",
    "\n",
    "# wget http://lammps.sandia.gov/tars/lammps-stable.tar.gz\n",
    "# tar xvf lammps-stable.tar.gz\n",
    "# rm -rf lammps-stable.tar.gz\n",
    "# mv `ls -d lammps-*` lammps\n",
    "# cd lammps/src\n",
    "# #replace this line manually or like this\n",
    "# sed -i 's/liblink\\/plumed\\/src\\/lib\\/Plumed.inc/liblink\\/Plumed.inc/g' ../lib/plumed/Install.py\n",
    "# make lib-plumed args=\"-p $plumed -m shared\"\n",
    "# make yes-PLUMED\n",
    "# make yes-DIFFRACTION\n",
    "# make yes-RIGID\n",
    "# make yes-KSPACE\n",
    "# make yes-MOLECULE\n",
    "# make yes-MANYBODY\n",
    "# make yes-MOLECULE\n",
    "# make yes-EXTRA-FIX\n",
    "# make yes-EXTRA-DUMP\n",
    "# make yes-MISC\n",
    "# make -j 18 mpi\n",
    "# mkdir bin\n",
    "# mv lmp_mpi bin/\n",
    "# lmp_path=\"`pwd -P` /bin/\"\n",
    "# echo `export PATH=\"lmp_path:$PATH\"` >> ~/.bashrc"
   ]
  },
  {
   "cell_type": "code",
   "execution_count": 1,
   "id": "457ccb68",
   "metadata": {},
   "outputs": [
    {
     "name": "stderr",
     "output_type": "stream",
     "text": [
      "/home/ahlawat/.local/lib/python3.9/site-packages/ase/utils/geometry.py:8: UserWarning: Moved to ase.geometry and ase.build\n",
      "  warnings.warn('Moved to ase.geometry and ase.build')\n",
      "/home/ahlawat/.local/lib/python3.9/site-packages/ase/lattice/spacegroup.py:5: UserWarning: Moved to ase.spacegroup\n",
      "  warnings.warn('Moved to ase.spacegroup')\n",
      "/home/ahlawat/.local/lib/python3.9/site-packages/ase/lattice/surface.py:17: UserWarning: Moved to ase.build\n",
      "  warnings.warn('Moved to ase.build')\n"
     ]
    },
    {
     "data": {
      "application/vnd.jupyter.widget-view+json": {
       "model_id": "cce02aaeb6b242a1be139c05386dfb93",
       "version_major": 2,
       "version_minor": 0
      },
      "text/plain": []
     },
     "metadata": {},
     "output_type": "display_data"
    }
   ],
   "source": [
    "import numpy as np\n",
    "import matplotlib.pyplot as plt\n",
    "from ase.optimize.sciopt import *               \n",
    "from ase.utils.geometry import *\n",
    "from ase.lattice.spacegroup import crystal\n",
    "from ase.visualize import view\n",
    "from ase.lattice.surface import surface\n",
    "from ase import Atoms\n",
    "from ase.io import *\n",
    "from ase.io import read, write\n",
    "from ase.io.cif import read_cif\n",
    "from ase.io.vasp import write_vasp\n",
    "from abtem.visualize import show_atoms\n",
    "from ase.io.lammpsdata import write_lammps_data\n",
    "from ase.visualize.plot import plot_atoms\n",
    "from ase.build import add_adsorbate\n",
    "\n",
    "import subprocess\n",
    "\n",
    "import plumed\n",
    "import nglview"
   ]
  },
  {
   "cell_type": "markdown",
   "id": "6585c562",
   "metadata": {},
   "source": [
    "# building lammps data of a crystal file from experimental cif file"
   ]
  },
  {
   "cell_type": "code",
   "execution_count": 3,
   "id": "85c11588",
   "metadata": {},
   "outputs": [
    {
     "name": "stdout",
     "output_type": "stream",
     "text": [
      "Atoms(symbols='Br648Cs216Pb216', pbc=True, cell=[35.244, 35.244, 35.244], initial_charges=..., spacegroup_kinds=...)\n"
     ]
    }
   ],
   "source": [
    "#import the unit cell cif file (experimental cif file)\n",
    "\n",
    "unit_cell = read('cubic.cif')\n",
    "\n",
    "#thick_z=6\n",
    "\n",
    "# Create the surface exposing the 0 1 1 surface \n",
    "\n",
    "#cut = surface(unit_cell, (1,1,0),thick_z,vacuum=0)\n",
    "\n",
    "#replicate the cell to obtain a supercell\n",
    "\n",
    "rep1 = 6\n",
    "rep2 = 6\n",
    "rep3 = 6\n",
    "\n",
    "supercell = unit_cell.repeat((rep1,rep2,rep3))\n",
    "supercell = sort(supercell)\n",
    "\n",
    "# set point charges\n",
    "i = 0\n",
    "num_atoms = len(supercell.get_chemical_symbols())\n",
    "charge_array = [0]*num_atoms\n",
    "while i < num_atoms:\n",
    "    if(supercell.get_chemical_symbols()[i] == 'Cs'):\n",
    "        charge_array[i]= 0.75\n",
    "    if(supercell.get_chemical_symbols()[i] == 'Br'):\n",
    "        charge_array[i]= -0.75\n",
    "    if(supercell.get_chemical_symbols()[i] == 'Pb'):\n",
    "        charge_array[i]= 1.50\n",
    "    i = i + 1\n",
    "\n",
    "supercell.set_initial_charges(charges=charge_array)\n",
    "\n",
    "# view the supercell and obtain the supercell parameters (matrix)\n",
    "\n",
    "view(supercell)\n",
    "print(supercell) \n",
    "#print(supercell.get_cell())\n",
    "\n",
    "write_lammps_data('data.CPI', supercell, atom_style = 'full', force_skew=True, units='real')\n",
    "\n",
    "#fig, ax = plt.subplots(figsize=(8,5))\n",
    "#plot_atoms(supercell, ax, radii=0.5, rotation=('90x,0y,0z'))\n",
    "#ax.set_xlim(-20, 30)\n",
    "#ax.set_xlabel(r'x[$\\AA$]')\n",
    "#ax.set_ylabel(r'y[$\\AA$]')\n",
    "\n",
    "write('new_cell.traj',supercell)\n",
    "\n",
    "#view = nglview.show_ase(supercell)\n",
    "#view.add_spacefill(radius_type='vdw', scale=0.1)\n",
    "#view # display it\n"
   ]
  },
  {
   "cell_type": "markdown",
   "id": "3daf9295",
   "metadata": {},
   "source": [
    "# viewers for geometries "
   ]
  },
  {
   "cell_type": "code",
   "execution_count": null,
   "id": "5c38d25f",
   "metadata": {},
   "outputs": [],
   "source": [
    "# new_cell = read('new_cell.traj')\n",
    "# from ase_notebook import AseView, ViewConfig\n",
    "\n",
    "# ase_view = AseView(\n",
    "#     rotations=\"45x,45y,45z\",\n",
    "#     atom_font_size=16,\n",
    "#     axes_length=30,\n",
    "#     canvas_size=(400, 400),\n",
    "#     zoom=1.2,\n",
    "#     show_bonds=True,\n",
    "# )\n",
    "# ase_view.config.uc_dash_pattern=(.6,.4)\n",
    "# ase_view.add_miller_plane(1, 0, 0, color=\"green\")\n",
    "\n",
    "# ase_view.config.canvas_color_background = \"blue\"\n",
    "# ase_view.config.canvas_background_opacity = 0.1\n",
    "\n",
    "# gui = ase_view.make_render(new_cell)\n",
    "# gui\n"
   ]
  },
  {
   "cell_type": "markdown",
   "id": "f053cb82",
   "metadata": {},
   "source": [
    "# melt this crystal with very high temperature with NPT simulations with lammps"
   ]
  },
  {
   "cell_type": "code",
   "execution_count": 4,
   "id": "654e693e",
   "metadata": {},
   "outputs": [],
   "source": [
    "with open(\"start-melt.lmp\",\"w\") as f:\n",
    "    print(\"\"\"\n",
    "###\n",
    "dimension       3\n",
    "boundary        p p p\n",
    "units           real\n",
    "atom_style      full\n",
    "\n",
    "variable        p_id world   1\n",
    "\n",
    "variable        temperature equal 300.0\n",
    "variable        temperature2 equal 1100.0\n",
    "variable        tempDamp equal 100.0 # approx 0.1 ps\n",
    "\n",
    "variable        pressure equal 1.00\n",
    "variable        pressureDamp equal 500.0\n",
    "\n",
    "variable        seed world 1428\n",
    "\n",
    "read_data       data.CPI\n",
    "\n",
    "mass            1 79.904     # Br\n",
    "mass            2 132.904999 # Cs\n",
    "mass            3 207.199997 # Pb\n",
    "\n",
    "variable        freq equal 500\n",
    "\n",
    "neighbor        0.3 bin\n",
    "neigh_modify    check yes delay 0\n",
    "kspace_style    pppm 1e-4         \n",
    "dielectric      1.0\n",
    "\n",
    "pair_style      lj/coul/long 10.0 10.0\n",
    "\n",
    "variable ACs    equal \"0.089856500\"\n",
    "variable rCs    equal \"3.521013\"\n",
    "\n",
    "variable APb    equal \"0.0051886219\"\n",
    "variable rPb    equal \"4.043\"\n",
    "\n",
    "variable ABr    equal \"0.026958651\"\n",
    "variable rBr    equal \"4.82525\"\n",
    "\n",
    "\n",
    "variable APbBr  equal \"0.507295\"\n",
    "variable rPbBr  equal \"3.103\"\n",
    "\n",
    "variable ACsBr  equal \"0.546757170\"\n",
    "variable rCsBr  equal \"3.50408\"\n",
    "\n",
    "\n",
    "pair_coeff      1 1 ${ABr}    ${rBr}  \n",
    "pair_coeff      2 2 ${ACs}    ${rCs}    \n",
    "pair_coeff      3 3 ${APb}    ${rPb}\n",
    "\n",
    "pair_coeff      1 2 ${ACsBr}  ${rCsBr} \n",
    "pair_coeff      1 3 ${APbBr}  ${rPbBr}\n",
    " \n",
    "\n",
    "\n",
    "thermo          ${freq}\n",
    "thermo_style    custom step temp pe ke etotal press lx ly lz xy xz yz\n",
    "restart         ${freq} restart.0 restart.2\n",
    "\n",
    "# Minimization\n",
    "\n",
    "minimize        1.0e-2 1.0e-3 100 1000\n",
    "\n",
    "write_data      data.min\n",
    "\n",
    "reset_timestep  0\n",
    "\n",
    "# NVT\n",
    "\n",
    "dump            myDump1 all atom 500 out.0.lammpstrj \n",
    "\n",
    "fix             1 all temp/csvr ${temperature} ${temperature2} ${tempDamp} ${seed}\n",
    "fix             2 all nve\n",
    "\n",
    "timestep        2.0\n",
    "\n",
    "velocity        all create ${temperature} ${seed} dist gaussian\n",
    "run             10000\n",
    "\n",
    "unfix           1\n",
    "unfix           2\n",
    "\n",
    "write_data      data.NVT\n",
    "\n",
    "undump          myDump1\n",
    "reset_timestep  0\n",
    "\n",
    "# NPT\n",
    "\n",
    "dump            myDump2 all atom 500 out.1.lammpstrj \n",
    "\n",
    "fix             1 all temp/csvr ${temperature2} ${temperature2} ${tempDamp} ${seed}\n",
    "fix             2 all nph iso ${pressure} ${pressure} ${pressureDamp} \n",
    "fix             3 all momentum 10000 linear 1 1 1\n",
    "\n",
    "run             5000\n",
    "\n",
    "unfix           1\n",
    "unfix           2\n",
    "unfix           3\n",
    "\n",
    "undump          myDump2\n",
    "\n",
    "reset_timestep  0\n",
    "\n",
    "write_restart   restart.file\n",
    "write_data      data.eq\n",
    "\n",
    "\"\"\",file=f)\n"
   ]
  },
  {
   "cell_type": "markdown",
   "id": "b8fe956e",
   "metadata": {},
   "source": [
    "# run simulations "
   ]
  },
  {
   "cell_type": "code",
   "execution_count": 5,
   "id": "30cc117a",
   "metadata": {},
   "outputs": [
    {
     "data": {
      "text/plain": [
       "CompletedProcess(args='mpirun -np 30 lmp_intel_cpu_intelmpi < start-melt.lmp > log.lammps &', returncode=0)"
      ]
     },
     "execution_count": 5,
     "metadata": {},
     "output_type": "execute_result"
    }
   ],
   "source": [
    "subprocess.run(\"mpirun -np 30 lmp_intel_cpu_intelmpi < start-melt.lmp > log.lammps &\",shell=True)"
   ]
  },
  {
   "cell_type": "code",
   "execution_count": 6,
   "id": "997b004f",
   "metadata": {},
   "outputs": [
    {
     "data": {
      "text/plain": [
       "<Popen: returncode: None args: ['/home/ahlawat/miniconda3/bin/python', '-m',...>"
      ]
     },
     "execution_count": 6,
     "metadata": {},
     "output_type": "execute_result"
    }
   ],
   "source": [
    "traj = read('out.1.lammpstrj', index=\":\", parallel=True)\n",
    "view(traj)"
   ]
  },
  {
   "cell_type": "code",
   "execution_count": null,
   "id": "8ad27863",
   "metadata": {},
   "outputs": [],
   "source": []
  },
  {
   "cell_type": "code",
   "execution_count": 11,
   "id": "ea788b3e",
   "metadata": {},
   "outputs": [],
   "source": [
    "# set point charges\n",
    "i = 0\n",
    "new_cell = traj[-1]\n",
    "num_atoms = len(new_cell.get_chemical_symbols())\n",
    "charge_array = [0]*num_atoms\n",
    "while i < num_atoms:\n",
    "    if(new_cell.get_chemical_symbols()[i] == 'Cs'):\n",
    "        charge_array[i]= 0.75\n",
    "    if(new_cell.get_chemical_symbols()[i] == 'Br'):\n",
    "        charge_array[i]= -0.75\n",
    "    if(new_cell.get_chemical_symbols()[i] == 'Pb'):\n",
    "        charge_array[i]= 1.50\n",
    "    i = i + 1\n",
    "\n",
    "new_cell.set_initial_charges(charges=charge_array)\n",
    "\n",
    "write_lammps_data('data_melt.CPI', new_cell, atom_style = 'full', force_skew=True, units='real')"
   ]
  },
  {
   "cell_type": "code",
   "execution_count": 20,
   "id": "60d346cb",
   "metadata": {},
   "outputs": [
    {
     "data": {
      "text/plain": [
       "Atoms(symbols='H648He216Li216', pbc=True, cell=[45.27341189946993, 45.27341189946993, 45.27341189946993], initial_charges=...)"
      ]
     },
     "execution_count": 20,
     "metadata": {},
     "output_type": "execute_result"
    }
   ],
   "source": [
    "new_cell"
   ]
  },
  {
   "cell_type": "markdown",
   "id": "b2b715e2",
   "metadata": {},
   "source": [
    "# lammps input file, ff are included "
   ]
  },
  {
   "cell_type": "code",
   "execution_count": 21,
   "id": "b94c4682",
   "metadata": {},
   "outputs": [],
   "source": [
    "with open(\"start-crystallization.lmp\",\"w\") as f:\n",
    "    print(\"\"\"\n",
    "###\n",
    "dimension       3\n",
    "boundary        p p p\n",
    "units           real\n",
    "atom_style      full\n",
    "\n",
    "variable        p_id world   1\n",
    "\n",
    "variable        temperature equal 1000.0\n",
    "variable        temperature2 equal 600.0\n",
    "variable        tempDamp equal 100.0 # approx 0.1 ps\n",
    "\n",
    "variable        pressure equal 1.00\n",
    "variable        pressureDamp equal 500.0\n",
    "\n",
    "variable        seed world 1428\n",
    "\n",
    "read_data       data_melt.CPI\n",
    "\n",
    "mass            1 79.904     # Br\n",
    "mass            2 132.904999 # Cs\n",
    "mass            3 204.199997 # Pb\n",
    "\n",
    "\n",
    "variable        freq equal 500\n",
    "\n",
    "neighbor        0.3 bin\n",
    "neigh_modify    check yes delay 0\n",
    "kspace_style    pppm 1e-4         \n",
    "dielectric      1.0\n",
    "\n",
    "\n",
    "pair_style      lj/coul/long 10.0 10.0\n",
    "\n",
    "variable ACs    equal \"0.089856500\"\n",
    "variable rCs    equal \"3.521013\"\n",
    "\n",
    "variable APb    equal \"0.0051886219\"\n",
    "variable rPb    equal \"4.043\"\n",
    "\n",
    "variable ABr    equal \"0.026958651\"\n",
    "variable rBr    equal \"4.82525\"\n",
    "\n",
    "\n",
    "variable APbBr  equal \"0.507295\"\n",
    "variable rPbBr  equal \"3.103\"\n",
    "\n",
    "variable ACsBr  equal \"0.546757170\"\n",
    "variable rCsBr  equal \"3.50408\"\n",
    "\n",
    "\n",
    "pair_coeff      1 1 ${ABr}    ${rBr}  \n",
    "pair_coeff      2 2 ${ACs}    ${rCs}    \n",
    "pair_coeff      3 3 ${APb}    ${rPb}\n",
    "\n",
    "pair_coeff      1 2 ${ACsBr}  ${rCsBr} \n",
    "pair_coeff      1 3 ${APbBr}  ${rPbBr}\n",
    "\n",
    "\n",
    "\n",
    "thermo          ${freq}\n",
    "thermo_style    custom step temp pe ke etotal press lx ly lz xy xz yz\n",
    "restart         ${freq} restart.0 restart.2\n",
    "\n",
    "# Minimization\n",
    "\n",
    "minimize        1.0e-2 1.0e-3 100 1000\n",
    "\n",
    "write_data      data.min\n",
    "\n",
    "reset_timestep  0\n",
    "\n",
    "# NVT\n",
    "\n",
    "dump            myDump1 all atom 500 out.0.lammpstrj \n",
    "\n",
    "fix             1 all temp/csvr ${temperature} ${temperature2} ${tempDamp} ${seed}\n",
    "fix             2 all nve\n",
    "\n",
    "timestep        2.0\n",
    "\n",
    "velocity        all create ${temperature} ${seed} dist gaussian\n",
    "run             10000\n",
    "\n",
    "unfix           1\n",
    "unfix           2\n",
    "\n",
    "write_data      data.NVT\n",
    "\n",
    "undump          myDump1\n",
    "reset_timestep  0\n",
    "\n",
    "# NPT\n",
    "\n",
    "dump            myDump2 all atom 500 out.1.lammpstrj \n",
    "\n",
    "fix             1 all plumed plumedfile plumed.dat outfile plumed.log\n",
    "fix             2 all temp/csvr ${temperature2} ${temperature2} ${tempDamp} ${seed}\n",
    "fix             3 all nph iso ${pressure} ${pressure} ${pressureDamp} \n",
    "fix             4 all momentum 10000 linear 1 1 1\n",
    "\n",
    "run             1000000\n",
    "\n",
    "unfix           1\n",
    "unfix           2\n",
    "unfix           3\n",
    "unfix           4\n",
    "\n",
    "undump          myDump2\n",
    "\n",
    "reset_timestep  0\n",
    "\n",
    "write_restart   restart.file\n",
    "write_data      data.eq\n",
    "\n",
    "\"\"\",file=f)\n",
    "\n"
   ]
  },
  {
   "cell_type": "markdown",
   "id": "571bbca5",
   "metadata": {},
   "source": [
    "# run simulations"
   ]
  },
  {
   "cell_type": "code",
   "execution_count": 22,
   "id": "8b6a6ad6",
   "metadata": {},
   "outputs": [
    {
     "data": {
      "text/plain": [
       "CompletedProcess(args='nohup mpirun -np 30 lmp_intel_cpu_intelmpi < start-crystallization.lmp > log.lammps &', returncode=0)"
      ]
     },
     "execution_count": 22,
     "metadata": {},
     "output_type": "execute_result"
    }
   ],
   "source": [
    "subprocess.run(\"nohup mpirun -np 30 lmp_intel_cpu_intelmpi < start-crystallization.lmp > log.lammps &\",shell=True)"
   ]
  },
  {
   "cell_type": "markdown",
   "id": "98d0a896",
   "metadata": {},
   "source": [
    "# see trajectories"
   ]
  },
  {
   "cell_type": "code",
   "execution_count": 23,
   "id": "ac2abd88",
   "metadata": {},
   "outputs": [
    {
     "data": {
      "text/plain": [
       "<Popen: returncode: None args: ['/home/ahlawat/miniconda3/bin/python', '-m',...>"
      ]
     },
     "execution_count": 23,
     "metadata": {},
     "output_type": "execute_result"
    }
   ],
   "source": [
    "traj = read('out.1.lammpstrj', index=\":\", parallel=True)\n",
    "view(traj)"
   ]
  },
  {
   "cell_type": "markdown",
   "id": "8a5517ce",
   "metadata": {},
   "source": [
    "# plotting plumed outputs"
   ]
  },
  {
   "cell_type": "code",
   "execution_count": null,
   "id": "864f7819",
   "metadata": {},
   "outputs": [],
   "source": [
    "colvar=plumed.read_as_pandas(\"COLVAR\")\n",
    "plt.plot(colvar.time,colvar.c1,\"x\",label=\"c1\")\n",
    "plt.plot(colvar.time,colvar.c2,\"x\",label=\"c2\")\n",
    "\n",
    "plt.xlabel(\"time\")\n",
    "plt.ylabel(\"colvar\")\n",
    "plt.legend()\n",
    "plt.show()\n",
    "\n",
    "plt.plot(colvar.time,colvar.m,\"x\",label=\"m\")\n",
    "plt.xlabel(\"time\")\n",
    "plt.ylabel(\"m\")\n",
    "plt.legend()\n",
    "plt.show()\n",
    "\n",
    "plt.plot(colvar.c1,colvar.c2,\"x\")\n",
    "plt.xlabel(\"c1\")\n",
    "plt.ylabel(\"c2\")\n",
    "plt.show()\n",
    "\n",
    "plt.plot(colvar.c1-colvar.c2,\"x\")\n",
    "plt.show()\n"
   ]
  }
 ],
 "metadata": {
  "kernelspec": {
   "display_name": "Python 3 (ipykernel)",
   "language": "python",
   "name": "python3"
  },
  "language_info": {
   "codemirror_mode": {
    "name": "ipython",
    "version": 3
   },
   "file_extension": ".py",
   "mimetype": "text/x-python",
   "name": "python",
   "nbconvert_exporter": "python",
   "pygments_lexer": "ipython3",
   "version": "3.8.16"
  }
 },
 "nbformat": 4,
 "nbformat_minor": 5
}
